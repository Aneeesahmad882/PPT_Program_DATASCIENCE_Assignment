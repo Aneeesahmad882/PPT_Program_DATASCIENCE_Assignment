{
 "cells": [
  {
   "cell_type": "code",
   "execution_count": 29,
   "id": "1b8fe2b8-34e5-4d18-8e91-051b8b7604fb",
   "metadata": {},
   "outputs": [
    {
     "name": "stdout",
     "output_type": "stream",
     "text": [
      "seenA\n"
     ]
    }
   ],
   "source": [
    "#Answer1\n",
    "#Reverse a string with out using inbuild function.\n",
    "s = \"Anees\"\n",
    "n= len(s)\n",
    "def reverse_string(s):\n",
    "    # Convert the string to a list of characters\n",
    "    s_list = list(s)\n",
    "    \n",
    "    # Initialize pointers\n",
    "    left = 0\n",
    "    right = len(s_list) - 1\n",
    "    \n",
    "    # Reverse the string by swapping characters\n",
    "    while left < right:\n",
    "        s_list[left], s_list[right] = s_list[right], s_list[left]\n",
    "        left += 1\n",
    "        right -= 1\n",
    "    \n",
    "    # Convert the list back to a string\n",
    "    reversed_str = \"\".join(s_list)\n",
    "    return reversed_str\n",
    "\n",
    "reversed_str = reverse_string(input_str)\n",
    "print(reversed_str)\n"
   ]
  },
  {
   "cell_type": "code",
   "execution_count": 31,
   "id": "cb0d7d2e-4940-421c-b570-bc9a6242b22e",
   "metadata": {},
   "outputs": [
    {
     "name": "stdout",
     "output_type": "stream",
     "text": [
      "True\n"
     ]
    }
   ],
   "source": [
    "#Answer2\n",
    "#write a function to check a string is a palindrome.\n",
    "s = \"A man, a plan, a canal, Panama!\"\n",
    "def is_palindrome(s):\n",
    "    left = 0\n",
    "    right = len(s)-1\n",
    "    \n",
    "    while left < right :\n",
    "        while left < right and not s[left].isalnum():\n",
    "            left += 1\n",
    "        while left < right and not s[right].isalnum():\n",
    "            right -= 1\n",
    "        \n",
    "        if s[left].lower() != s[right].lower():\n",
    "            return False\n",
    "        \n",
    "        left += 1\n",
    "        right -= 1\n",
    "        \n",
    "    return True\n",
    "\n",
    "result = is_palindrome(s)\n",
    "print(result)"
   ]
  },
  {
   "cell_type": "code",
   "execution_count": 43,
   "id": "563ec6b4-cc5e-425f-be8d-8ac4d96f3e5a",
   "metadata": {},
   "outputs": [
    {
     "name": "stdout",
     "output_type": "stream",
     "text": [
      "300\n"
     ]
    }
   ],
   "source": [
    "#Answer3\n",
    "#write a program to find a largest element in given list:\n",
    "list = [7,150,58,300,57]\n",
    "def find_largest_element(list):\n",
    "    largest = list[0]  # Assume the first element is the largest\n",
    "    \n",
    "    for element in list:\n",
    "        if element > largest:\n",
    "            largest = element\n",
    "    \n",
    "    return largest\n",
    "largest_element = find_largest_element(list)\n",
    "print(largest_element)"
   ]
  },
  {
   "cell_type": "code",
   "execution_count": 8,
   "id": "d4c6d9e7-b867-41cd-8caf-7cf448fec9e9",
   "metadata": {},
   "outputs": [
    {
     "name": "stdout",
     "output_type": "stream",
     "text": [
      "{1: 3, 2: 2, 3: 5, 4: 2}\n"
     ]
    }
   ],
   "source": [
    "#Answer4\n",
    "#Implement a function to count the occurrence of each element in a list:\n",
    "nums = [1,2,3,2,4,3,4,3,1,3,1,3]\n",
    "def count_occorrences(nums):\n",
    "    occorrences_count = {}\n",
    "    \n",
    "    for element in nums:\n",
    "        if element in occorrences_count:\n",
    "            occorrences_count[element] +=1\n",
    "        else :\n",
    "            occorrences_count[element] = 1\n",
    "        \n",
    "    return occorrences_count\n",
    "occorrences_count = count_occorrences(nums)\n",
    "print(occorrences_count)"
   ]
  },
  {
   "cell_type": "code",
   "execution_count": 19,
   "id": "d063b9a1-d904-46df-add3-5a2e3509d54a",
   "metadata": {},
   "outputs": [
    {
     "name": "stdout",
     "output_type": "stream",
     "text": [
      "74\n"
     ]
    }
   ],
   "source": [
    "#Answer5\n",
    "#Write a Python program to find the second largest number in a list.\n",
    "list = [25,69,35,67,99,74]\n",
    "def find_second_largest(list):\n",
    "    if len(list) < 2:\n",
    "        raise ValueError(\"List must hav atleast 2 element\")\n",
    "    largest = max(list[0],list[1])\n",
    "    second_largest = min(list[0],list[1])\n",
    "    \n",
    "    for i in range(2,len(list)):\n",
    "        if list[i] > largest:\n",
    "            second_largest= largest\n",
    "            largest = list[i]\n",
    "        elif list[i] > second_largest and list[i] != largest:\n",
    "            second_largest = list[i]\n",
    "    return second_largest\n",
    "result = find_second_largest(list)\n",
    "print(result)"
   ]
  },
  {
   "cell_type": "code",
   "execution_count": 22,
   "id": "0546b134-e7af-42e8-965b-086756815b5d",
   "metadata": {},
   "outputs": [
    {
     "name": "stdout",
     "output_type": "stream",
     "text": [
      "[1, 2, 3, 4, 5]\n"
     ]
    }
   ],
   "source": [
    "#Answer6\n",
    "#Implement a function to remove duplicate elements from a list.\n",
    "list = [1,2,1,3,2,4,2,3,4,5,1]\n",
    "def remove_duplicate(list):\n",
    "    seen =  set()\n",
    "    result = []\n",
    "    \n",
    "    for num in list:\n",
    "        if num not in seen:\n",
    "            seen.add(num)\n",
    "            result.append(num)\n",
    "    return result\n",
    "unique_list = remove_duplicate(list)\n",
    "print(unique_list)"
   ]
  },
  {
   "cell_type": "code",
   "execution_count": 12,
   "id": "ea8ea264-e2d3-44f5-bb66-485b88c422b8",
   "metadata": {},
   "outputs": [
    {
     "name": "stdout",
     "output_type": "stream",
     "text": [
      "720\n"
     ]
    }
   ],
   "source": [
    "#Answer7\n",
    "#Write a program to calculate the factorial of a given number:\n",
    "n = 6\n",
    "def factorial(number):\n",
    "    if n < 0:\n",
    "        raise ValueError(\"Factorial is not defined for negative numbers\")\n",
    "        \n",
    "    result = 1 \n",
    "    for i in range(2,n+1):\n",
    "        result *= i\n",
    "    return result\n",
    "result = factorial(n)\n",
    "print(result)"
   ]
  },
  {
   "cell_type": "code",
   "execution_count": 15,
   "id": "907dc2d8-3edf-4446-81a8-2fc4751649fc",
   "metadata": {},
   "outputs": [
    {
     "name": "stdout",
     "output_type": "stream",
     "text": [
      "True\n"
     ]
    }
   ],
   "source": [
    "#Answer8\n",
    "#Implement a function to check if a given number is prime.\n",
    "n = 11\n",
    "def is_prime(n):\n",
    "    if n <= 1:\n",
    "        return False\n",
    "    if n == 2:\n",
    "        return True\n",
    "    i = 3\n",
    "    while i * i <= n:\n",
    "        if n % i == 0:\n",
    "            return False\n",
    "        i += 2\n",
    "    \n",
    "    return True\n",
    "is_prime_number = is_prime(n)\n",
    "print(is_prime_number)"
   ]
  },
  {
   "cell_type": "code",
   "execution_count": 30,
   "id": "5d4cce85-c773-4edb-be38-285a0b59d81f",
   "metadata": {},
   "outputs": [
    {
     "name": "stdout",
     "output_type": "stream",
     "text": [
      "[1, 2, 3, 5, 6, 7, 9]\n"
     ]
    }
   ],
   "source": [
    "#Answer9\n",
    "#Write a Python program to sort a list of integers in ascending order.\n",
    "list = [2,3,9,7,1,6,5]\n",
    "def sort_list(list):\n",
    "    for i in range(1, len(list)):\n",
    "        key = list[i]\n",
    "        left = 0\n",
    "        right = i - 1\n",
    "\n",
    "        while left <= right:\n",
    "            mid = (left + right) // 2\n",
    "            if list[mid] > key:\n",
    "                right = mid - 1\n",
    "            else:\n",
    "                left = mid + 1\n",
    "\n",
    "        list[left+1:i+1] = list[left:i]\n",
    "        list[left] = key\n",
    "\n",
    "    return list\n",
    "sorted_list = sort_list(list)\n",
    "print(sorted_list)"
   ]
  },
  {
   "cell_type": "code",
   "execution_count": 31,
   "id": "d2014d3f-d023-4559-8984-3742da4acb7a",
   "metadata": {},
   "outputs": [
    {
     "name": "stdout",
     "output_type": "stream",
     "text": [
      "15\n"
     ]
    }
   ],
   "source": [
    "#Answer10\n",
    "#Implement a function to find the sum of all numbers in a list.\n",
    "input_list = [1, 2, 3, 4, 5]\n",
    "def calculate_sum(list):\n",
    "    total_sum = 0\n",
    "    for num in list:\n",
    "        total_sum += num\n",
    "    return total_sum\n",
    "\n",
    "\n",
    "sum_of_numbers = calculate_sum(input_list)\n",
    "print(sum_of_numbers)"
   ]
  },
  {
   "cell_type": "code",
   "execution_count": 32,
   "id": "20d8345b-1684-4686-ac8b-115f22e2e1e5",
   "metadata": {},
   "outputs": [
    {
     "name": "stdout",
     "output_type": "stream",
     "text": [
      "[4, 5]\n"
     ]
    }
   ],
   "source": [
    "#Answer11\n",
    "#Write a program to find the common elements between two lists.\n",
    "\n",
    "list1 = [1, 2, 3, 4, 5]\n",
    "list2 = [4, 5, 6, 7, 8]\n",
    "def find_common_elements(list1, list2):\n",
    "    set1 = set(list1)\n",
    "    common_elements = []\n",
    "    \n",
    "    for element in list2:\n",
    "        if element in set1:\n",
    "            common_elements.append(element)\n",
    "    \n",
    "    return common_elements\n",
    "\n",
    "\n",
    "common_elements = find_common_elements(list1, list2)\n",
    "print(common_elements)"
   ]
  },
  {
   "cell_type": "code",
   "execution_count": 33,
   "id": "948c1982-b021-4e77-b7db-15db0f25ba5d",
   "metadata": {},
   "outputs": [
    {
     "name": "stdout",
     "output_type": "stream",
     "text": [
      "True\n"
     ]
    }
   ],
   "source": [
    "#Answer12\n",
    "# Implement a function to check if a given string is an anagram of another string.\n",
    "string1 = \"listen\"\n",
    "string2 = \"silent\"\n",
    "def is_anagram(string1, string2):\n",
    "    \n",
    "    if len(string1) != len(string2):\n",
    "        return False\n",
    "    char_count1 = {}\n",
    "    char_count2 = {}\n",
    "\n",
    "    for char in string1:\n",
    "        char_count1[char] = char_count1.get(char, 0) + 1\n",
    "\n",
    "    for char in string2:\n",
    "        char_count2[char] = char_count2.get(char, 0) + 1\n",
    "\n",
    "    return char_count1 == char_count2\n",
    "\n",
    "\n",
    "is_anagram = is_anagram(string1, string2)\n",
    "print(is_anagram)"
   ]
  },
  {
   "cell_type": "code",
   "execution_count": 35,
   "id": "7b100922-39d5-4d87-ab9c-ee3618c900a3",
   "metadata": {},
   "outputs": [
    {
     "name": "stdout",
     "output_type": "stream",
     "text": [
      "['xyz', 'xzy', 'yxz', 'yzx', 'zxy', 'zyx']\n"
     ]
    }
   ],
   "source": [
    "#Answer13\n",
    "#Write a Python program to generate all permutations of a given string.\n",
    "\n",
    "string = \"xyz\"\n",
    "def generate_permutations(string):\n",
    "    # Base case: if the string is empty or contains only one character,\n",
    "    # return the string as a single permutation\n",
    "    if len(string) <= 1:\n",
    "        return [string]\n",
    "\n",
    "    # List to store the permutations\n",
    "    permutations = []\n",
    "\n",
    "    # Iterate through each character in the string\n",
    "    for i in range(len(string)):\n",
    "        # Fix the first character\n",
    "        fixed_char = string[i]\n",
    "\n",
    "        # Generate permutations of the remaining characters\n",
    "        remaining_chars = string[:i] + string[i+1:]\n",
    "        sub_permutations = generate_permutations(remaining_chars)\n",
    "\n",
    "        # Append the fixed character to each sub-permutation\n",
    "        for sub_permutation in sub_permutations:\n",
    "            permutations.append(fixed_char + sub_permutation)\n",
    "\n",
    "    return permutations\n",
    "\n",
    "permutations = generate_permutations(string)\n",
    "print(permutations)"
   ]
  },
  {
   "cell_type": "code",
   "execution_count": 37,
   "id": "7de9b116-532e-4231-87f6-6a85fbf1cdd9",
   "metadata": {},
   "outputs": [
    {
     "name": "stdout",
     "output_type": "stream",
     "text": [
      "[0, 1, 1, 2, 3, 5, 8, 13, 21, 34]\n"
     ]
    }
   ],
   "source": [
    "#Answer14\n",
    "#Implement a function to calculate the Fibonacci sequence up to a given number of terms.\n",
    "num_terms = 10\n",
    "def fibonacci_sequence(n):\n",
    "    sequence = []\n",
    "    \n",
    "    # Base cases for the first two Fibonacci numbers\n",
    "    if n >= 1:\n",
    "        sequence.append(0)\n",
    "    if n >= 2:\n",
    "        sequence.append(1)\n",
    "    \n",
    "    # Calculate Fibonacci numbers starting from the third term\n",
    "    for i in range(2, n):\n",
    "        sequence.append(sequence[i-1] + sequence[i-2])\n",
    "    \n",
    "    return sequence\n",
    "\n",
    "fib_sequence = fibonacci_sequence(num_terms)\n",
    "print(fib_sequence)"
   ]
  },
  {
   "cell_type": "code",
   "execution_count": 38,
   "id": "9001f8da-cc4b-4703-a274-d60e4f41270e",
   "metadata": {},
   "outputs": [
    {
     "name": "stdout",
     "output_type": "stream",
     "text": [
      "Median: 6\n"
     ]
    }
   ],
   "source": [
    "#Answer15\n",
    "#Write a program to find the median of a list of numbers.\n",
    "\n",
    "numbers = [2, 4, 6, 8, 10]\n",
    "def find_median(numbers):\n",
    "    sorted_numbers = sorted(numbers)\n",
    "    n = len(sorted_numbers)\n",
    "    \n",
    "    if n % 2 == 0:\n",
    "        # If the number of elements is even, average the middle two numbers\n",
    "        mid1 = sorted_numbers[n // 2]\n",
    "        mid2 = sorted_numbers[n // 2 - 1]\n",
    "        median = (mid1 + mid2) / 2\n",
    "    else:\n",
    "        # If the number of elements is odd, take the middle number\n",
    "        median = sorted_numbers[n // 2]\n",
    "    \n",
    "    return median\n",
    "\n",
    "\n",
    "result = find_median(numbers)\n",
    "print(\"Median:\", result)"
   ]
  },
  {
   "cell_type": "code",
   "execution_count": 51,
   "id": "6aef06ee-f145-461d-9a75-052dd3a990eb",
   "metadata": {},
   "outputs": [
    {
     "name": "stdout",
     "output_type": "stream",
     "text": [
      "Yes\n"
     ]
    }
   ],
   "source": [
    "#Answer16\n",
    "# Driver code\n",
    "list = [ 20, 23, 24, 45, 78, 88 ]\n",
    "n = len(list)\n",
    "def listSortedOrNot(list, n):\n",
    " \n",
    "    # Base case\n",
    "    if (n == 0 or n == 1):\n",
    "        return True\n",
    "    return (list[n - 1] >= list[n - 2] and listSortedOrNot(list, n - 1))\n",
    " \n",
    "\n",
    "# Function Call\n",
    "if (listSortedOrNot(list, n)):\n",
    "    print(\"Yes\")\n",
    "else:\n",
    "    print(\"No\")"
   ]
  },
  {
   "cell_type": "code",
   "execution_count": 52,
   "id": "e3968d30-04df-432e-af68-617b6df58956",
   "metadata": {},
   "outputs": [
    {
     "name": "stdout",
     "output_type": "stream",
     "text": [
      "Intersection: [4, 5]\n"
     ]
    }
   ],
   "source": [
    "#Answer17\n",
    "#Write a Python program to find the intersection of two lists.\n",
    "list1 = [1,2,3,4,5]\n",
    "list2 = [4,5,6,7,8]\n",
    "def find_intersection(list1,list2):\n",
    "    if len(list1) > len(list2):\n",
    "        list1, list2 = list2, list1\n",
    "\n",
    "    count_dict = {}\n",
    "    intersection = []\n",
    "\n",
    "    for item in list1:\n",
    "        count_dict[item] = count_dict.get(item, 0) + 1\n",
    "\n",
    "    for item in list2:\n",
    "        if item in count_dict and count_dict[item] > 0:\n",
    "            intersection.append(item)\n",
    "            count_dict[item] -= 1\n",
    "\n",
    "    return intersection\n",
    "\n",
    "result = find_intersection(list1, list2)\n",
    "print(\"Intersection:\", result)"
   ]
  },
  {
   "cell_type": "code",
   "execution_count": 54,
   "id": "168c7640-f97d-43ce-a9ac-b10d921a9ab8",
   "metadata": {},
   "outputs": [
    {
     "name": "stdout",
     "output_type": "stream",
     "text": [
      "Maximum Subarray Sum: 6\n"
     ]
    }
   ],
   "source": [
    "#Answer18\n",
    "#Implement a function to find the maximum subarray sum in a given list.\n",
    "#we can use an optimized version of Kadane's algorithm to find the maximum subarray sum in a given list.\n",
    "#Here's an implementation in Python:\n",
    "numbers = [-2, 1, -3, 4, -1, 2, 1, -5, 4]\n",
    "def max_subarray_sum(numbers):\n",
    "    max_sum= numbers[0]\n",
    "    current_sum = numbers[0]\n",
    "    \n",
    "    for i in range(1,len(numbers)):\n",
    "        current_sum = max(numbers[i],current_sum + numbers[i])\n",
    "        max_sum = max(current_sum , max_sum)\n",
    "        \n",
    "    return max_sum\n",
    "result = max_subarray_sum(numbers)\n",
    "print(\"Maximum Subarray Sum:\", result)"
   ]
  },
  {
   "cell_type": "code",
   "execution_count": 3,
   "id": "88534b4e-ee9e-4aa9-948b-e14be2f952ad",
   "metadata": {},
   "outputs": [
    {
     "name": "stdout",
     "output_type": "stream",
     "text": [
      "String without vowels: Hll, Wrld!\n"
     ]
    }
   ],
   "source": [
    "#Answer19\n",
    "#Write a program to remove all vowels from a given string.\n",
    "input_string = \"Hello, World!\"\n",
    "def remove_vowels(string):\n",
    "    vowels = set('aeiouAEIOU')\n",
    "    string = list(string)\n",
    "    left = 0\n",
    "    right = 0\n",
    "    \n",
    "    for right in range(len(string)):\n",
    "        if string[right] not in vowels:\n",
    "            string[left] = string[right]\n",
    "            left += 1\n",
    "\n",
    "    return ''.join(string[:left])\n",
    "result = remove_vowels(input_string)\n",
    "print(\"String without vowels:\", result)"
   ]
  },
  {
   "cell_type": "code",
   "execution_count": 4,
   "id": "fea470ae-6992-428c-8b9e-f087b76ace8f",
   "metadata": {},
   "outputs": [
    {
     "name": "stdout",
     "output_type": "stream",
     "text": [
      "Reversed Sentence: OpenAI. to Welcome World! Hello,\n"
     ]
    }
   ],
   "source": [
    "#Answer20\n",
    "#Implement a function to reverse the order of words in a given sentence.\n",
    "input_sentence = \"Hello, World! Welcome to OpenAI.\"\n",
    "def reverse_words(sentence):\n",
    "    sentence = list(sentence)\n",
    "    n = len(sentence)\n",
    "\n",
    "    # Reverse the entire sentence\n",
    "    reverse_chars(sentence, 0, n - 1)\n",
    "\n",
    "    # Reverse each word individually\n",
    "    start = 0\n",
    "    for end in range(n):\n",
    "        if sentence[end] == ' ':\n",
    "            reverse_chars(sentence, start, end - 1)\n",
    "            start = end + 1\n",
    "\n",
    "    # Reverse the last word\n",
    "    reverse_chars(sentence, start, n - 1)\n",
    "\n",
    "    return ''.join(sentence)\n",
    "\n",
    "\n",
    "def reverse_chars(sentence, left, right):\n",
    "    while left < right:\n",
    "        sentence[left], sentence[right] = sentence[right], sentence[left]\n",
    "        left += 1\n",
    "        right -= 1\n",
    "result = reverse_words(input_sentence)\n",
    "print(\"Reversed Sentence:\", result)"
   ]
  },
  {
   "cell_type": "code",
   "execution_count": 10,
   "id": "13ed5d60-28d3-450a-986b-6424ee67e1be",
   "metadata": {},
   "outputs": [
    {
     "name": "stdout",
     "output_type": "stream",
     "text": [
      "Are 'listen' and 'silent' anagrams? True\n"
     ]
    }
   ],
   "source": [
    "#Answer21\n",
    "#Write a Python program to check if two strings are anagrams of each other.\n",
    "string1 = \"listen\"\n",
    "string2 = \"silent\"\n",
    "def are_anagrams(str1, str2):\n",
    "    # Remove whitespace and convert to lowercase\n",
    "    str1 = str1.replace(\" \", \"\").lower()\n",
    "    str2 = str2.replace(\" \", \"\").lower()\n",
    "\n",
    "    # Check if the lengths are different\n",
    "    if len(str1) != len(str2):\n",
    "        return False\n",
    "\n",
    "    # Create dictionaries to count character frequencies\n",
    "    freq1 = {}\n",
    "    freq2 = {}\n",
    "\n",
    "    # Count character frequencies in str1\n",
    "    for char in str1:\n",
    "        freq1[char] = freq1.get(char, 0) + 1\n",
    "\n",
    "    # Count character frequencies in str2\n",
    "    for char in str2:\n",
    "        freq2[char] = freq2.get(char, 0) + 1\n",
    "\n",
    "    # Compare the character frequencies\n",
    "    return freq1 == freq2\n",
    "result = are_anagrams(string1, string2)\n",
    "print(f\"Are '{string1}' and '{string2}' anagrams? {result}\")"
   ]
  },
  {
   "cell_type": "code",
   "execution_count": 15,
   "id": "5bd3025a-06fb-418f-9819-44575e32f27c",
   "metadata": {},
   "outputs": [
    {
     "name": "stdout",
     "output_type": "stream",
     "text": [
      "c\n"
     ]
    }
   ],
   "source": [
    "#Answer22\n",
    "#Implement a function to find the first non-repeating character in a string.\n",
    "string = \"abracadabra\"\n",
    "def first_non_repeating_character(tring):\n",
    "    char_count= {}\n",
    "    \n",
    "    for char in string:\n",
    "        char_count[char] = char_count.get(char,0)+1\n",
    "        \n",
    "    for char in string:\n",
    "        if char_count[char] == 1 :\n",
    "            return char\n",
    "        \n",
    "    return None\n",
    "        \n",
    "result = first_non_repeating_character(string)\n",
    "print(result)"
   ]
  },
  {
   "cell_type": "code",
   "execution_count": 17,
   "id": "1fe60783-72db-4916-a865-1e624ebd83b2",
   "metadata": {},
   "outputs": [
    {
     "name": "stdout",
     "output_type": "stream",
     "text": [
      "Prime factors of 96 are: [2, 2, 2, 2, 2, 3]\n"
     ]
    }
   ],
   "source": [
    "#Answer23\n",
    "#Write a program to find the prime factors of a given number.\n",
    "\n",
    "number = 96\n",
    "def find_prime_factors(number):\n",
    "    prime_factors = []\n",
    "\n",
    "    # Check if the number is divisible by 2\n",
    "    while number % 2 == 0:\n",
    "        prime_factors.append(2)\n",
    "        number //= 2\n",
    "\n",
    "    # Check for odd prime factors\n",
    "    for i in range(3, int(number ** 0.5) + 1, 2):\n",
    "        while number % i == 0:\n",
    "            prime_factors.append(i)\n",
    "            number //= i\n",
    "\n",
    "    # If the number is prime itself\n",
    "    if number > 2:\n",
    "        prime_factors.append(number)\n",
    "\n",
    "    return prime_factors\n",
    "\n",
    "\n",
    "result = find_prime_factors(number)\n",
    "print(\"Prime factors of\", number, \"are:\", result)"
   ]
  },
  {
   "cell_type": "code",
   "execution_count": 19,
   "id": "795e33b3-16cf-4b36-8f71-2579e47de08d",
   "metadata": {},
   "outputs": [
    {
     "name": "stdout",
     "output_type": "stream",
     "text": [
      "16 is a power of two: True\n"
     ]
    }
   ],
   "source": [
    "#Answer24\n",
    "#Implement a function to check if a given number is a power of two.\n",
    "\n",
    "input_number = 16\n",
    "def is_power_of_two(number):\n",
    "    if number <= 0:\n",
    "        return False\n",
    "    return (number & (number - 1)) == 0\n",
    "\n",
    "result = is_power_of_two(input_number)\n",
    "print(f\"{input_number} is a power of two: {result}\")"
   ]
  },
  {
   "cell_type": "code",
   "execution_count": 20,
   "id": "61f1f856-9df8-413f-8be0-6aca334aae86",
   "metadata": {},
   "outputs": [
    {
     "name": "stdout",
     "output_type": "stream",
     "text": [
      "Merged list: [1, 2, 3, 4, 5, 6, 7, 8]\n"
     ]
    }
   ],
   "source": [
    "#Answer25\n",
    "#Write a Python program to merge two sorted lists into a single sorted list.\n",
    "\n",
    "list1 = [1, 3, 5, 7]\n",
    "list2 = [2, 4, 6, 8]\n",
    "def merge_sorted_lists(list1, list2):\n",
    "    merged_list = []\n",
    "    i = 0\n",
    "    j = 0\n",
    "\n",
    "    while i < len(list1) and j < len(list2):\n",
    "        if list1[i] <= list2[j]:\n",
    "            merged_list.append(list1[i])\n",
    "            i += 1\n",
    "        else:\n",
    "            merged_list.append(list2[j])\n",
    "            j += 1\n",
    "\n",
    "    # Append the remaining elements from list1, if any\n",
    "    while i < len(list1):\n",
    "        merged_list.append(list1[i])\n",
    "        i += 1\n",
    "\n",
    "    # Append the remaining elements from list2, if any\n",
    "    while j < len(list2):\n",
    "        merged_list.append(list2[j])\n",
    "        j += 1\n",
    "\n",
    "    return merged_list\n",
    "\n",
    "merged_list = merge_sorted_lists(list1, list2)\n",
    "print(\"Merged list:\", merged_list)"
   ]
  },
  {
   "cell_type": "code",
   "execution_count": 21,
   "id": "e5b1288f-c173-4911-be0a-3f72a67dce37",
   "metadata": {},
   "outputs": [
    {
     "name": "stdout",
     "output_type": "stream",
     "text": [
      "Mode: [4]\n"
     ]
    }
   ],
   "source": [
    "#Answer26\n",
    "#Implement a function to find the mode of a list of numbers.\n",
    "numbers = [1, 2, 3, 4, 2, 3, 4, 4, 4, 5]\n",
    "def find_mode(numbers):\n",
    "    count_dict = {}\n",
    "    max_count = 0\n",
    "    mode = []\n",
    "\n",
    "    for num in numbers:\n",
    "        if num not in count_dict:\n",
    "            count_dict[num] = 1\n",
    "        else:\n",
    "            count_dict[num] += 1\n",
    "\n",
    "        if count_dict[num] > max_count:\n",
    "            max_count = count_dict[num]\n",
    "            mode = [num]\n",
    "        elif count_dict[num] == max_count:\n",
    "            mode.append(num)\n",
    "\n",
    "    return mode\n",
    "mode = find_mode(numbers)\n",
    "print(\"Mode:\", mode)"
   ]
  },
  {
   "cell_type": "code",
   "execution_count": 24,
   "id": "91b6fc11-795b-4438-bbc1-e905cedda68e",
   "metadata": {},
   "outputs": [
    {
     "name": "stdout",
     "output_type": "stream",
     "text": [
      "12\n"
     ]
    }
   ],
   "source": [
    "#Answer27\n",
    "# Write a program to find the greatest common divisor (GCD) of two numbers.\n",
    "num1 = 24\n",
    "num2 = 36\n",
    "def find_gcd(a,b):\n",
    "    while b!= 0 :\n",
    "        a,b = b , a % b\n",
    "    return a\n",
    "\n",
    "gcd = find_gcd(num1,num2)\n",
    "print(gcd)"
   ]
  },
  {
   "cell_type": "code",
   "execution_count": 27,
   "id": "3cf425bc-598a-49ec-afe4-8823e8df26b0",
   "metadata": {},
   "outputs": [
    {
     "name": "stdout",
     "output_type": "stream",
     "text": [
      "Square root: 8.000001273385879\n"
     ]
    }
   ],
   "source": [
    "#Answer28\n",
    "#Implement a function to calculate the square root of a given number.\n",
    "\n",
    "number = 64\n",
    "def calculate_square_root(number):\n",
    "    if number < 0:\n",
    "        raise ValueError(\"Square root undefined for negative numbers.\")\n",
    "\n",
    "    if number == 0 or number == 1:\n",
    "        return number\n",
    "\n",
    "    # Initial guess for the square root\n",
    "    guess = number / 2\n",
    "\n",
    "    # Iterate until desired precision is achieved\n",
    "    precision = 0.0001\n",
    "    while abs(guess * guess - number) > precision:\n",
    "        guess = (guess + number / guess) / 2\n",
    "\n",
    "    return guess\n",
    "\n",
    "square_root = calculate_square_root(number)\n",
    "print(\"Square root:\", square_root)"
   ]
  },
  {
   "cell_type": "code",
   "execution_count": 31,
   "id": "f83cb7da-a803-4973-8c0a-99bd0db81900",
   "metadata": {},
   "outputs": [
    {
     "name": "stdout",
     "output_type": "stream",
     "text": [
      "Is Valid Palindrome: True\n"
     ]
    }
   ],
   "source": [
    "#Answer29\n",
    "#Write a Python program to check if a given string is a valid palindrome ignoring non-alphanumeric characters.\n",
    "#write a function to check a string is a palindrome.\n",
    "import re\n",
    "\n",
    "string = \"A man, a plan, a canal: Panama\"\n",
    "def is_valid_palindrome(string):\n",
    "    # Remove non-alphanumeric characters\n",
    "    alphanumeric_string = re.sub(r'[^a-zA-Z0-9]', '', string)\n",
    "\n",
    "    # Convert string to lowercase for case-insensitive comparison\n",
    "    alphanumeric_string = alphanumeric_string.lower()\n",
    "\n",
    "    # Use two pointers to check for palindrome validity\n",
    "    left = 0\n",
    "    right = len(alphanumeric_string) - 1\n",
    "    while left < right:\n",
    "        if alphanumeric_string[left] != alphanumeric_string[right]:\n",
    "            return False\n",
    "        left += 1\n",
    "        right -= 1\n",
    "\n",
    "    return True\n",
    "result = is_valid_palindrome(string)\n",
    "print(\"Is Valid Palindrome:\", result)"
   ]
  },
  {
   "cell_type": "code",
   "execution_count": 32,
   "id": "1be2fd94-bb85-47ac-b826-73eed3d781ea",
   "metadata": {},
   "outputs": [
    {
     "name": "stdout",
     "output_type": "stream",
     "text": [
      "Minimum Element: 0\n"
     ]
    }
   ],
   "source": [
    "#Answer30\n",
    "#Implement a function to find the minimum element in a rotated sorted list.\n",
    "nums = [4, 5, 6, 7, 0, 1, 2]\n",
    "def find_min_element(nums):\n",
    "    left = 0\n",
    "    right = len(nums) - 1\n",
    "\n",
    "    while left < right:\n",
    "        mid = left + (right - left) // 2\n",
    "\n",
    "        # Check if mid element is greater than the rightmost element\n",
    "        if nums[mid] > nums[right]:\n",
    "            left = mid + 1\n",
    "        # Check if mid element is smaller than the rightmost element\n",
    "        elif nums[mid] < nums[right]:\n",
    "            right = mid\n",
    "        # If the mid element and rightmost element are equal, decrement the right pointer\n",
    "        else:\n",
    "            right -= 1\n",
    "\n",
    "    # The left pointer will point to the minimum element\n",
    "    return nums[left]\n",
    "min_element = find_min_element(nums)\n",
    "print(\"Minimum Element:\", min_element)"
   ]
  },
  {
   "cell_type": "code",
   "execution_count": 33,
   "id": "f4493a99-d400-408b-855b-c952b969e0c1",
   "metadata": {},
   "outputs": [
    {
     "name": "stdout",
     "output_type": "stream",
     "text": [
      "Sum of Even Numbers: 56\n"
     ]
    }
   ],
   "source": [
    "#Answer31\n",
    "#Write a program to find the sum of all even numbers in a list.\n",
    "\n",
    "numbers = [1, 2, 3, 4, 5, 6, 7, 8, 9, 10,11,12,13,14,15]\n",
    "def sum_of_even_numbers(numbers):\n",
    "    sum = 0\n",
    "    for num in numbers:\n",
    "        if num % 2 == 0:\n",
    "            sum += num\n",
    "    return sum\n",
    "\n",
    "even_sum = sum_of_even_numbers(numbers)\n",
    "print(\"Sum of Even Numbers:\", even_sum)"
   ]
  },
  {
   "cell_type": "code",
   "execution_count": 34,
   "id": "764f484e-63c0-4db5-a83d-4d801059ae40",
   "metadata": {},
   "outputs": [
    {
     "name": "stdout",
     "output_type": "stream",
     "text": [
      "2 raised to the power of 5 is: 32\n"
     ]
    }
   ],
   "source": [
    "#Answer32\n",
    "#Implement a function to calculate the power of a number using recursion.\n",
    "\n",
    "base = 2\n",
    "exponent = 5\n",
    "def power(base, exponent):\n",
    "    if exponent == 0:\n",
    "        return 1\n",
    "    elif exponent < 0:\n",
    "        return 1 / power(base, -exponent)\n",
    "    else:\n",
    "        return base * power(base, exponent - 1)\n",
    "result = power(base, exponent)\n",
    "print(f\"{base} raised to the power of {exponent} is:\", result)"
   ]
  },
  {
   "cell_type": "code",
   "execution_count": 2,
   "id": "5726a32f-cb78-484e-87fc-d51a598a9fe3",
   "metadata": {},
   "outputs": [
    {
     "name": "stdout",
     "output_type": "stream",
     "text": [
      "List after removing duplicates: [1, 2, 3, 4, 5]\n"
     ]
    }
   ],
   "source": [
    "#Answer33\n",
    "#Write a Python program to remove duplicates from a list while preserving the order.\n",
    "list = [1, 2, 3, 2, 4, 3, 5, 1]\n",
    "def remove_duplicates(list):\n",
    "    seen = set()\n",
    "    result = []\n",
    "    for item in list:\n",
    "        if item not in seen:\n",
    "            seen.add(item)\n",
    "            result.append(item)\n",
    "    return result\n",
    "new_list = remove_duplicates(list)\n",
    "print(\"List after removing duplicates:\", new_list)"
   ]
  },
  {
   "cell_type": "code",
   "execution_count": 5,
   "id": "92143967-f2bd-4ba3-9489-6c9eb336c74e",
   "metadata": {},
   "outputs": [
    {
     "name": "stdout",
     "output_type": "stream",
     "text": [
      "Longest Common Prefix: fl\n"
     ]
    }
   ],
   "source": [
    "#Answer34\n",
    "#Implement a function to find the longest common prefix among a list of strings.\n",
    "strings = [\"flower\", \"flow\", \"flight\"]\n",
    "def longest_common_prefix(strings):\n",
    "    if not strings:\n",
    "        return \"\"\n",
    "    prefix = strings[0]\n",
    "    for string in strings[1:]:\n",
    "        while not string.startswith(prefix):\n",
    "            prefix = prefix[:-1]\n",
    "            if not prefix:\n",
    "                return \"\"\n",
    "    \n",
    "    return prefix\n",
    "common_prefix = longest_common_prefix(strings)\n",
    "print(\"Longest Common Prefix:\", common_prefix)"
   ]
  },
  {
   "cell_type": "code",
   "execution_count": 8,
   "id": "47fb86ce-357d-4867-bfab-3ac9c5f62e09",
   "metadata": {},
   "outputs": [
    {
     "name": "stdout",
     "output_type": "stream",
     "text": [
      "81 is a perfect square: True\n"
     ]
    }
   ],
   "source": [
    "#Answer35\n",
    "#Write a program to check if a given number is a perfect square.\n",
    "num = 81\n",
    "\n",
    "def is_perfect_square(num):\n",
    "    if num < 0 :\n",
    "        return False\n",
    "    \n",
    "    left = 0\n",
    "    right = num\n",
    "    \n",
    "    while left <= right :\n",
    "        mid =  left + (right-left)//2\n",
    "        square = mid*mid\n",
    "        \n",
    "        if  square == num :\n",
    "            return True\n",
    "        elif square < num :\n",
    "            left = mid + 1\n",
    "        else :\n",
    "            right = mid -1 \n",
    "    return False\n",
    "result = is_perfect_square(num)\n",
    "print(f\"{num} is a perfect square: {result}\")"
   ]
  },
  {
   "cell_type": "code",
   "execution_count": 10,
   "id": "d917b7e1-2729-400d-b540-5f77708c9917",
   "metadata": {},
   "outputs": [
    {
     "name": "stdout",
     "output_type": "stream",
     "text": [
      "Product: 560\n"
     ]
    }
   ],
   "source": [
    "#Answer36\n",
    "#Implement a function to calculate the product of all elements in a list.\n",
    "\n",
    "my_list = [5,7,2,8]\n",
    "def calculate_product(numbers):\n",
    "    product = 1\n",
    "    for num in numbers:\n",
    "        product *= num\n",
    "    return product\n",
    "\n",
    "product = calculate_product(my_list)\n",
    "print(\"Product:\", product)"
   ]
  },
  {
   "cell_type": "code",
   "execution_count": 15,
   "id": "0f320449-69eb-4f6e-a536-bd456c990d6b",
   "metadata": {},
   "outputs": [
    {
     "name": "stdout",
     "output_type": "stream",
     "text": [
      "Reversed sentence: sentence. a is This world! Hello,\n"
     ]
    }
   ],
   "source": [
    "#Answer37\n",
    "#Write a Python program to reverse the order of words in a sentence while preserving the word order.\n",
    "sentence = \"Hello, world! This is a sentence.\"\n",
    "def reverse_words(sentence):\n",
    "    words = sentence.split()\n",
    "    start = 0\n",
    "    end = len(words) - 1\n",
    "\n",
    "    while start < end:\n",
    "        words[start], words[end] = words[end], words[start]\n",
    "        start += 1\n",
    "        end -= 1\n",
    "\n",
    "    reversed_sentence = ' '.join(words)\n",
    "    return reversed_sentence\n",
    "\n",
    "reversed_sentence = reverse_words(sentence)\n",
    "print(\"Reversed sentence:\", reversed_sentence)"
   ]
  },
  {
   "cell_type": "code",
   "execution_count": 24,
   "id": "73d9fed1-53ef-4a1d-8f46-23264a145350",
   "metadata": {},
   "outputs": [
    {
     "name": "stdout",
     "output_type": "stream",
     "text": [
      "4\n"
     ]
    }
   ],
   "source": [
    "#Answer38\n",
    "#Implement a function to find the missing number in a given list of consecutive numbers.\n",
    "nums = [1, 2, 3, 5, 6, 7, 8, 9]\n",
    "def find_missing_numbers(nums):\n",
    "    n = len(nums)+ 1\n",
    "    expected_sum = n*(n+1)//2\n",
    "    actual_sum= 0\n",
    "    for num in nums :\n",
    "            actual_sum += num\n",
    "    missing_num = expected_sum-actual_sum\n",
    "    return missing_num\n",
    "missing_num = find_missing_numbers(nums)\n",
    "print(missing_num)"
   ]
  },
  {
   "cell_type": "code",
   "execution_count": 26,
   "id": "7a3ffa61-aec2-491f-aa9b-cb1ed10ebf92",
   "metadata": {},
   "outputs": [
    {
     "name": "stdout",
     "output_type": "stream",
     "text": [
      "Sum of digits: 20\n"
     ]
    }
   ],
   "source": [
    "#Answer39\n",
    "# Write a program to find the sum of digits of a given number.\n",
    "number = 23465\n",
    "def sum_of_digits(number):\n",
    "    sum = 0\n",
    "    while number > 0:\n",
    "        digit = number % 10\n",
    "        sum += digit\n",
    "        number //=10\n",
    "        \n",
    "    return sum\n",
    "result = sum_of_digits(number)\n",
    "print(\"Sum of digits:\" , result)"
   ]
  },
  {
   "cell_type": "code",
   "execution_count": 29,
   "id": "e2bbc68d-290e-42bd-917e-ce159f168f03",
   "metadata": {},
   "outputs": [
    {
     "name": "stdout",
     "output_type": "stream",
     "text": [
      "Is palindrome: False\n"
     ]
    }
   ],
   "source": [
    "#Answer40\n",
    "#Implement a function to check if a given string is a valid palindrome considering case sensitivity.\n",
    "\n",
    "string = \"Madam\"\n",
    "def is_palindrome(s):\n",
    "    start = 0\n",
    "    end = len(s) - 1\n",
    "\n",
    "    while start < end:\n",
    "        if s[start] != s[end]:\n",
    "            return False\n",
    "        start += 1\n",
    "        end -= 1\n",
    "\n",
    "    return True\n",
    "\n",
    "\n",
    "result = is_palindrome(string)\n",
    "print(\"Is palindrome:\", result)"
   ]
  },
  {
   "cell_type": "code",
   "execution_count": 30,
   "id": "6e5ef226-84d1-4d83-b18f-8f71eed00a41",
   "metadata": {},
   "outputs": [
    {
     "name": "stdout",
     "output_type": "stream",
     "text": [
      "Smallest missing positive integer: 2\n"
     ]
    }
   ],
   "source": [
    "#Answer41\n",
    "#Write a Python program to find the smallest missing positive integer in a list.\n",
    "\n",
    "my_list = [3, 4, -1, 1]\n",
    "def find_smallest_missing_positive(nums):\n",
    "    n = len(nums)\n",
    "    \n",
    "    # Step 1: Separate positive integers\n",
    "    j = 0\n",
    "    for i in range(n):\n",
    "        if nums[i] <= 0:\n",
    "            nums[i], nums[j] = nums[j], nums[i]\n",
    "            j += 1\n",
    "    \n",
    "    # Step 2: Mark visited indices\n",
    "    for i in range(j, n):\n",
    "        num = abs(nums[i])\n",
    "        if num <= n - j:\n",
    "            nums[j + num - 1] = -abs(nums[j + num - 1])\n",
    "    \n",
    "    # Step 3: Find the smallest missing positive integer\n",
    "    for i in range(j, n):\n",
    "        if nums[i] > 0:\n",
    "            return i - j + 1\n",
    "    \n",
    "    # If all positive integers are present, return n - j + 1\n",
    "    return n - j + 1\n",
    "\n",
    "\n",
    "smallest_missing = find_smallest_missing_positive(my_list)\n",
    "print(\"Smallest missing positive integer:\", smallest_missing)"
   ]
  },
  {
   "cell_type": "code",
   "execution_count": 1,
   "id": "dbf20ff1-4ee8-4146-8fca-d28297cd1bab",
   "metadata": {},
   "outputs": [
    {
     "name": "stdout",
     "output_type": "stream",
     "text": [
      "Longest Palindrome Substring: aba\n"
     ]
    }
   ],
   "source": [
    "#Answer42\n",
    "#Implement a function to find the longest palindrome substring in a given string.\n",
    "\n",
    "input_string = \"babad\"\n",
    "def longest_palindrome_substring(s):\n",
    "    if not s:\n",
    "        return \"\"\n",
    "\n",
    "    start = 0\n",
    "    end = 0\n",
    "\n",
    "    for i in range(len(s)):\n",
    "        len1 = expand_around_center(s, i, i)\n",
    "        len2 = expand_around_center(s, i, i + 1)\n",
    "        max_len = max(len1, len2)\n",
    "\n",
    "        if max_len > end - start:\n",
    "            start = i - (max_len - 1) // 2\n",
    "            end = i + max_len // 2\n",
    "\n",
    "    return s[start:end+1]\n",
    "\n",
    "\n",
    "def expand_around_center(s, left, right):\n",
    "    while left >= 0 and right < len(s) and s[left] == s[right]:\n",
    "        left -= 1\n",
    "        right += 1\n",
    "\n",
    "    return right - left - 1\n",
    "\n",
    "\n",
    "result = longest_palindrome_substring(input_string)\n",
    "print(\"Longest Palindrome Substring:\", result)"
   ]
  },
  {
   "cell_type": "code",
   "execution_count": 2,
   "id": "e7a92397-4117-4996-84a1-2d5563a5338d",
   "metadata": {},
   "outputs": [
    {
     "name": "stdout",
     "output_type": "stream",
     "text": [
      "{1: 3, 2: 2, 3: 5, 4: 2}\n"
     ]
    }
   ],
   "source": [
    "#Answer43\n",
    "#Write a program to find the number of occurrences of a given element in a list.\n",
    "nums = [1,2,3,2,4,3,4,3,1,3,1,3]\n",
    "def count_occorrences(nums):\n",
    "    occorrences_count = {}\n",
    "    \n",
    "    for element in nums:\n",
    "        if element in occorrences_count:\n",
    "            occorrences_count[element] +=1\n",
    "        else :\n",
    "            occorrences_count[element] = 1\n",
    "        \n",
    "    return occorrences_count\n",
    "occorrences_count = count_occorrences(nums)\n",
    "print(occorrences_count)"
   ]
  },
  {
   "cell_type": "code",
   "execution_count": 6,
   "id": "53829f0f-d7ea-44c0-af23-03a62eb0fa62",
   "metadata": {},
   "outputs": [
    {
     "name": "stdout",
     "output_type": "stream",
     "text": [
      "28 is a perfect number.\n"
     ]
    }
   ],
   "source": [
    "#Answer44\n",
    "#Implement a function to check if a given number is a perfect number.\n",
    "num = 28\n",
    "def is_perfect_number(num):\n",
    "    if num <= 0:\n",
    "        return False\n",
    "    divisors_sum = 0\n",
    "    for i in range(1,num):\n",
    "        if num % i == 0:\n",
    "            divisors_sum += i\n",
    "            \n",
    "    return divisors_sum == num\n",
    "is_perfect = is_perfect_number(num)\n",
    "if is_perfect:\n",
    "    print(f\"{num} is a perfect number.\")\n",
    "else:\n",
    "    print(f\"{num} is not a perfect number.\")"
   ]
  },
  {
   "cell_type": "code",
   "execution_count": 7,
   "id": "7d8c1580-1db2-4512-8474-52129fbc9ec2",
   "metadata": {},
   "outputs": [
    {
     "name": "stdout",
     "output_type": "stream",
     "text": [
      "Original string: Hello, World!\n",
      "String with duplicates removed: Helo, Wrd!\n"
     ]
    }
   ],
   "source": [
    "#Answer45\n",
    "#Write a Python program to remove all duplicates from a string.\n",
    "\n",
    "my_string = \"Hello, World!\"\n",
    "def remove_duplicates(string):\n",
    "    unique_chars = []\n",
    "    result = \"\"\n",
    "    for char in string:\n",
    "        if char not in unique_chars:\n",
    "            unique_chars.append(char)\n",
    "            result += char\n",
    "    return result\n",
    "\n",
    "result_string = remove_duplicates(my_string)\n",
    "print(f\"Original string: {my_string}\")\n",
    "print(f\"String with duplicates removed: {result_string}\")"
   ]
  },
  {
   "cell_type": "code",
   "execution_count": 9,
   "id": "5a884a51-e66b-40d8-8068-6c7e14a089f3",
   "metadata": {},
   "outputs": [
    {
     "name": "stdout",
     "output_type": "stream",
     "text": [
      "The first missing positive integer is: 2\n"
     ]
    }
   ],
   "source": [
    "#Answer46\n",
    "#def find_first_missing_positive(nums):\n",
    "\n",
    "my_nums = [3, 4, -1, 1]\n",
    "def find_first_missing_positive(nums):\n",
    "    n = len(nums)\n",
    "    i = 0\n",
    "    while i < n:\n",
    "        current = nums[i]\n",
    "        if 1 <= current <= n and current != nums[current - 1]:\n",
    "            nums[current - 1], nums[i] = nums[i], nums[current - 1]\n",
    "        else:\n",
    "            i += 1\n",
    "    \n",
    "    for i in range(n):\n",
    "        if nums[i] != i + 1:\n",
    "            return i + 1\n",
    "    \n",
    "    return n + 1\n",
    "\n",
    "first_missing = find_first_missing_positive(my_nums)\n",
    "print(f\"The first missing positive integer is: {first_missing}\")"
   ]
  },
  {
   "cell_type": "code",
   "execution_count": null,
   "id": "0ec8f1c6-4e46-4845-853e-ebee420a17db",
   "metadata": {},
   "outputs": [],
   "source": []
  }
 ],
 "metadata": {
  "kernelspec": {
   "display_name": "Python 3 (ipykernel)",
   "language": "python",
   "name": "python3"
  },
  "language_info": {
   "codemirror_mode": {
    "name": "ipython",
    "version": 3
   },
   "file_extension": ".py",
   "mimetype": "text/x-python",
   "name": "python",
   "nbconvert_exporter": "python",
   "pygments_lexer": "ipython3",
   "version": "3.10.8"
  }
 },
 "nbformat": 4,
 "nbformat_minor": 5
}
